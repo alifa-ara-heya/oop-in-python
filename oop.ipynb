{
 "cells": [
  {
   "cell_type": "code",
   "execution_count": null,
   "metadata": {},
   "outputs": [],
   "source": [
    "class Complex:\n",
    "\n",
    "    def __init__(self, real, imag):\n",
    "        self.r = real\n",
    "        self.i = imag\n",
    "\n",
    "    def __repr__(self):\n",
    "        if self.i <0:\n",
    "            return f\"{self.r} {self.i}i\"\n",
    "        elif self.i > 0:\n",
    "            return f\"{self.r} + {self.i}i\"\n",
    "        else:\n",
    "            return f\"{self.r}\"\n",
    "\n",
    "    def __add__(self, other):\n",
    "        real = self.r + other.r\n",
    "        imag = self.i + other.i\n",
    "        return Complex(real, imag)\n",
    "\n",
    "    def __sub__(self, other):\n",
    "        real = self.r - other.r\n",
    "        imag = self.i - other.i\n",
    "        return Complex(real, imag)\n",
    "\n",
    "    def __mul__(self, other):\n",
    "        pass\n"
   ]
  },
  {
   "cell_type": "code",
   "execution_count": null,
   "metadata": {},
   "outputs": [
    {
     "data": {
      "text/plain": [
       "11 + 22i"
      ]
     },
     "execution_count": 11,
     "metadata": {},
     "output_type": "execute_result"
    }
   ],
   "source": [
    "c1 = Complex(11, 22)\n",
    "c2 = Complex(10, 12)\n",
    "\n",
    "\n",
    "c1\n"
   ]
  },
  {
   "cell_type": "code",
   "execution_count": null,
   "metadata": {},
   "outputs": [
    {
     "data": {
      "text/plain": [
       "-1 -10i"
      ]
     },
     "execution_count": 12,
     "metadata": {},
     "output_type": "execute_result"
    }
   ],
   "source": [
    "c4 = c2 - c1\n",
    "c4"
   ]
  },
  {
   "cell_type": "code",
   "execution_count": null,
   "metadata": {},
   "outputs": [
    {
     "data": {
      "text/plain": [
       "21 + 34i"
      ]
     },
     "execution_count": 13,
     "metadata": {},
     "output_type": "execute_result"
    }
   ],
   "source": [
    "c3 = c1 + c2\n",
    "c3"
   ]
  },
  {
   "cell_type": "code",
   "execution_count": null,
   "metadata": {},
   "outputs": [
    {
     "data": {
      "text/plain": [
       "10 + 12i"
      ]
     },
     "execution_count": 14,
     "metadata": {},
     "output_type": "execute_result"
    }
   ],
   "source": [
    "c2"
   ]
  },
  {
   "cell_type": "code",
   "execution_count": null,
   "metadata": {},
   "outputs": [
    {
     "data": {
      "text/plain": [
       "1 + 10i"
      ]
     },
     "execution_count": 15,
     "metadata": {},
     "output_type": "execute_result"
    }
   ],
   "source": [
    "c1 - c2"
   ]
  },
  {
   "cell_type": "code",
   "execution_count": null,
   "metadata": {},
   "outputs": [],
   "source": []
  },
  {
   "cell_type": "code",
   "execution_count": null,
   "metadata": {},
   "outputs": [
    {
     "data": {
      "text/plain": [
       "5"
      ]
     },
     "execution_count": 16,
     "metadata": {},
     "output_type": "execute_result"
    }
   ],
   "source": [
    "2+3"
   ]
  },
  {
   "cell_type": "code",
   "execution_count": null,
   "metadata": {},
   "outputs": [],
   "source": []
  },
  {
   "cell_type": "code",
   "execution_count": null,
   "metadata": {},
   "outputs": [
    {
     "data": {
      "text/plain": [
       "'Default'"
      ]
     },
     "execution_count": 20,
     "metadata": {},
     "output_type": "execute_result"
    }
   ],
   "source": [
    "class User:\n",
    "    def __init__(self):\n",
    "       self.name=\"Default\"\n",
    "\n",
    "sakib=User()\n",
    "sakib.name"
   ]
  },
  {
   "cell_type": "code",
   "execution_count": null,
   "metadata": {},
   "outputs": [
    {
     "name": "stdout",
     "output_type": "stream",
     "text": [
      "<class '__main__.Animal'>\n"
     ]
    }
   ],
   "source": [
    "class Animal:\n",
    "    pass\n",
    "\n",
    "lion = Animal()\n",
    "print(type(lion))"
   ]
  },
  {
   "cell_type": "code",
   "execution_count": null,
   "metadata": {},
   "outputs": [
    {
     "name": "stdout",
     "output_type": "stream",
     "text": [
      "a=10, b= 6\n"
     ]
    }
   ],
   "source": [
    "#Given two numbers a and b, the task is to swap them.\n",
    "a = 6\n",
    "b = 10\n",
    "c = b\n",
    "b = a\n",
    "a = c\n",
    "print(f\"a={a}, b= {b}\")\n"
   ]
  },
  {
   "cell_type": "code",
   "execution_count": null,
   "metadata": {},
   "outputs": [
    {
     "name": "stdout",
     "output_type": "stream",
     "text": [
      "a=10, b= 6\n"
     ]
    }
   ],
   "source": [
    "a = 6\n",
    "b = 10\n",
    "a = a + b\n",
    "b = a - b\n",
    "\n",
    "a = a - b\n",
    "print(f\"a={a}, b= {b}\")"
   ]
  },
  {
   "cell_type": "code",
   "execution_count": null,
   "metadata": {},
   "outputs": [],
   "source": [
    "Given two integers n and m. The problem is to find the number closest to n and divisible by m. If there is more than one such number, then output the one having the maximum absolute value.\n",
    "\n",
    "Examples :\n",
    "Input: n = 13 , m = 4\n",
    "Output: 12\n",
    "Explanation: 12 is the Closest Number to 13 which is divisible by 4.\n",
    "Input: n = -15 , m = 6\n",
    "Output: -18\n",
    "Explanation: -12 and -18 are both similarly close to -15 and divisible by 6. but -18 has the maximum absolute value. So, Output is -18\n",
    "Input: n = -6 , m = 39\n",
    "Output: 0\n",
    "Constraints:\n",
    "-105 <= n, m <= 105"
   ]
  },
  {
   "cell_type": "code",
   "execution_count": 40,
   "metadata": {},
   "outputs": [
    {
     "name": "stdout",
     "output_type": "stream",
     "text": [
      "12\n",
      "10\n"
     ]
    }
   ],
   "source": [
    "def closestNumber( n , m):\n",
    "    for i in range(m):\n",
    "        opt1 = (n - i)% m == 0\n",
    "        opt2\n",
    "        if((n - i)% m == 0 or (n+i)% m == 0):\n",
    "            c = n - i\n",
    "            print(c)\n",
    "\n",
    "closestNumber(13, 4)"
   ]
  },
  {
   "cell_type": "code",
   "execution_count": null,
   "metadata": {},
   "outputs": [],
   "source": []
  }
 ],
 "metadata": {
  "kernelspec": {
   "display_name": "base",
   "language": "python",
   "name": "python3"
  },
  "language_info": {
   "codemirror_mode": {
    "name": "ipython",
    "version": 3
   },
   "file_extension": ".py",
   "mimetype": "text/x-python",
   "name": "python",
   "nbconvert_exporter": "python",
   "pygments_lexer": "ipython3",
   "version": "3.12.2"
  }
 },
 "nbformat": 4,
 "nbformat_minor": 2
}
