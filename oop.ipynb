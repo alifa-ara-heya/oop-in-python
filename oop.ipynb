{
 "cells": [
  {
   "cell_type": "code",
   "execution_count": 67,
   "metadata": {},
   "outputs": [],
   "source": [
    "class Complex:\n",
    "\n",
    "    def __init__(self, real, imag):\n",
    "        self.r = real\n",
    "        self.i = imag\n",
    "\n",
    "    def __repr__(self):\n",
    "        if self.i <0:\n",
    "            return f\"{self.r} {self.i}i\"\n",
    "        elif self.i > 0:\n",
    "            return f\"{self.r} + {self.i}i\"\n",
    "        else:\n",
    "            return f\"{self.r}\"\n",
    "\n",
    "    def __add__(self, other):\n",
    "        real = self.r + other.r\n",
    "        imag = self.i + other.i\n",
    "        return Complex(real, imag)\n",
    "\n",
    "    def __sub__(self, other):\n",
    "        real = self.r - other.r\n",
    "        imag = self.i - other.i\n",
    "        return Complex(real, imag)\n",
    "\n",
    "    def __mul__(self, other):\n",
    "        pass\n"
   ]
  },
  {
   "cell_type": "code",
   "execution_count": 70,
   "metadata": {},
   "outputs": [
    {
     "data": {
      "text/plain": [
       "11 + 22i"
      ]
     },
     "execution_count": 70,
     "metadata": {},
     "output_type": "execute_result"
    }
   ],
   "source": [
    "c1 = Complex(11, 22)\n",
    "c2 = Complex(10, 12)\n",
    "\n",
    "\n",
    "c1\n"
   ]
  },
  {
   "cell_type": "code",
   "execution_count": 71,
   "metadata": {},
   "outputs": [
    {
     "data": {
      "text/plain": [
       "-1 -10i"
      ]
     },
     "execution_count": 71,
     "metadata": {},
     "output_type": "execute_result"
    }
   ],
   "source": [
    "c4 = c2 - c1\n",
    "c4"
   ]
  },
  {
   "cell_type": "code",
   "execution_count": 72,
   "metadata": {},
   "outputs": [
    {
     "data": {
      "text/plain": [
       "21 + 34i"
      ]
     },
     "execution_count": 72,
     "metadata": {},
     "output_type": "execute_result"
    }
   ],
   "source": [
    "c3 = c1 + c2\n",
    "c3"
   ]
  },
  {
   "cell_type": "code",
   "execution_count": 73,
   "metadata": {},
   "outputs": [
    {
     "data": {
      "text/plain": [
       "10 + 12i"
      ]
     },
     "execution_count": 73,
     "metadata": {},
     "output_type": "execute_result"
    }
   ],
   "source": [
    "c2"
   ]
  },
  {
   "cell_type": "code",
   "execution_count": 74,
   "metadata": {},
   "outputs": [
    {
     "data": {
      "text/plain": [
       "1 + 10i"
      ]
     },
     "execution_count": 74,
     "metadata": {},
     "output_type": "execute_result"
    }
   ],
   "source": [
    "c1 - c2"
   ]
  },
  {
   "cell_type": "code",
   "execution_count": null,
   "metadata": {},
   "outputs": [],
   "source": []
  },
  {
   "cell_type": "code",
   "execution_count": null,
   "metadata": {},
   "outputs": [],
   "source": []
  }
 ],
 "metadata": {
  "kernelspec": {
   "display_name": "base",
   "language": "python",
   "name": "python3"
  },
  "language_info": {
   "codemirror_mode": {
    "name": "ipython",
    "version": 3
   },
   "file_extension": ".py",
   "mimetype": "text/x-python",
   "name": "python",
   "nbconvert_exporter": "python",
   "pygments_lexer": "ipython3",
   "version": "3.12.2"
  }
 },
 "nbformat": 4,
 "nbformat_minor": 2
}
